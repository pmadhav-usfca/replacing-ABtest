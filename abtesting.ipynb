{
 "cells": [
  {
   "cell_type": "code",
   "execution_count": 27,
   "id": "cdbca743-ecde-4b10-9e4d-79d34146a88c",
   "metadata": {},
   "outputs": [],
   "source": [
    "import numpy as np\n",
    "import pandas as pd\n",
    "import warnings\n",
    "from scipy import stats\n",
    "from sklearn.feature_extraction.text import CountVectorizer\n",
    "from sklearn.linear_model import LinearRegression,LogisticRegression,Lasso\n",
    "from sklearn.model_selection import train_test_split\n",
    "from sklearn.metrics import r2_score, accuracy_score,mean_squared_error\n",
    "from transformers import DistilBertTokenizer, DistilBertModel\n",
    "from sentence_transformers import SentenceTransformer\n",
    "import torch\n",
    "import matplotlib.pyplot as plt\n",
    "\n",
    "# ignore all warnings\n",
    "warnings.filterwarnings('ignore')"
   ]
  },
  {
   "cell_type": "code",
   "execution_count": 2,
   "id": "7131c7c0-5358-452f-aaf8-3f23f89b4fa8",
   "metadata": {},
   "outputs": [
    {
     "data": {
      "text/html": [
       "<div>\n",
       "<style scoped>\n",
       "    .dataframe tbody tr th:only-of-type {\n",
       "        vertical-align: middle;\n",
       "    }\n",
       "\n",
       "    .dataframe tbody tr th {\n",
       "        vertical-align: top;\n",
       "    }\n",
       "\n",
       "    .dataframe thead th {\n",
       "        text-align: right;\n",
       "    }\n",
       "</style>\n",
       "<table border=\"1\" class=\"dataframe\">\n",
       "  <thead>\n",
       "    <tr style=\"text-align: right;\">\n",
       "      <th></th>\n",
       "      <th>created_at</th>\n",
       "      <th>clickability_test_id</th>\n",
       "      <th>headline</th>\n",
       "      <th>impressions</th>\n",
       "      <th>clicks</th>\n",
       "    </tr>\n",
       "  </thead>\n",
       "  <tbody>\n",
       "    <tr>\n",
       "      <th>0</th>\n",
       "      <td>2014-11-20 11:33:26.475</td>\n",
       "      <td>546dd17e26714c82cc00001c</td>\n",
       "      <td>Let’s See … Hire Cops, Pay Teachers, Buy Books...</td>\n",
       "      <td>3118</td>\n",
       "      <td>8</td>\n",
       "    </tr>\n",
       "    <tr>\n",
       "      <th>1</th>\n",
       "      <td>2014-11-20 15:00:01.032</td>\n",
       "      <td>546e01d626714c6c4400004e</td>\n",
       "      <td>People Sent This Lesbian Questions And Her Rai...</td>\n",
       "      <td>4587</td>\n",
       "      <td>130</td>\n",
       "    </tr>\n",
       "    <tr>\n",
       "      <th>2</th>\n",
       "      <td>2014-11-20 11:33:51.973</td>\n",
       "      <td>546dd17e26714c82cc00001c</td>\n",
       "      <td>$3 Million Is What It Takes For A State To Leg...</td>\n",
       "      <td>3017</td>\n",
       "      <td>19</td>\n",
       "    </tr>\n",
       "  </tbody>\n",
       "</table>\n",
       "</div>"
      ],
      "text/plain": [
       "                created_at      clickability_test_id  \\\n",
       "0  2014-11-20 11:33:26.475  546dd17e26714c82cc00001c   \n",
       "1  2014-11-20 15:00:01.032  546e01d626714c6c4400004e   \n",
       "2  2014-11-20 11:33:51.973  546dd17e26714c82cc00001c   \n",
       "\n",
       "                                            headline  impressions  clicks  \n",
       "0  Let’s See … Hire Cops, Pay Teachers, Buy Books...         3118       8  \n",
       "1  People Sent This Lesbian Questions And Her Rai...         4587     130  \n",
       "2  $3 Million Is What It Takes For A State To Leg...         3017      19  "
      ]
     },
     "execution_count": 2,
     "metadata": {},
     "output_type": "execute_result"
    }
   ],
   "source": [
    "df = pd.read_csv('../data/upworthy-archive-confirmatory-packages-03.12.2020.csv',\n",
    "                 usecols=['created_at','clickability_test_id','headline','impressions','clicks'])\n",
    "df.head(3)"
   ]
  },
  {
   "cell_type": "code",
   "execution_count": 2,
   "id": "d69649c4-55f8-4ffc-8587-09552d84597e",
   "metadata": {},
   "outputs": [
    {
     "ename": "NameError",
     "evalue": "name 'df' is not defined",
     "output_type": "error",
     "traceback": [
      "\u001b[0;31m---------------------------------------------------------------------------\u001b[0m",
      "\u001b[0;31mNameError\u001b[0m                                 Traceback (most recent call last)",
      "Cell \u001b[0;32mIn[2], line 1\u001b[0m\n\u001b[0;32m----> 1\u001b[0m \u001b[43mdf\u001b[49m\u001b[38;5;241m.\u001b[39minfo(),df\u001b[38;5;241m.\u001b[39mshape\n",
      "\u001b[0;31mNameError\u001b[0m: name 'df' is not defined"
     ]
    }
   ],
   "source": [
    "df.info(),df.shape"
   ]
  },
  {
   "cell_type": "code",
   "execution_count": 31,
   "id": "973e21f4-3172-4257-80bd-2266ebe801ae",
   "metadata": {},
   "outputs": [],
   "source": [
    "import pandas as pd\n",
    "from itertools import combinations\n",
    "\n",
    "# read the CSV file and select columns of interest\n",
    "df = pd.read_csv('../data/upworthy-archive-exploratory-packages-03.12.2020.csv', usecols=['created_at','clickability_test_id', 'headline', 'impressions', 'clicks'])\n",
    "\n",
    "# create an empty DataFrame to store the results\n",
    "final_df = pd.DataFrame(columns=['clickability_test_id', 'headline A', 'headline B', 'impressions A', 'impressions B', 'clicks A', 'clicks B'])\n",
    "\n",
    "# group the DataFrame by clickability_test_id\n",
    "grouped = df.groupby('clickability_test_id')\n",
    "\n",
    "# iterate over each unique clickability_test_id\n",
    "for test_id, group in grouped:\n",
    "    # generate all possible pairs of headlines\n",
    "    pairs = list(combinations(group['created_at'], 2))\n",
    "    \n",
    "    # iterate over each pair and compute the impressions and clicks for each headline\n",
    "    for pair in pairs:\n",
    "        impressions_A = group.loc[group['created_at'] == pair[0], 'impressions'].iloc[0]\n",
    "        clicks_A = group.loc[group['created_at'] == pair[0], 'clicks'].iloc[0]\n",
    "        impressions_B = group.loc[group['created_at'] == pair[1], 'impressions'].iloc[0]\n",
    "        clicks_B = group.loc[group['created_at'] == pair[1], 'clicks'].iloc[0]\n",
    "        headline_A = group.loc[group['created_at'] == pair[0], 'headline'].iloc[0]\n",
    "        headline_B = group.loc[group['created_at'] == pair[1], 'headline'].iloc[0]\n",
    "        \n",
    "        # add the results to the final DataFrame\n",
    "        final_df = final_df.append({'clickability_test_id': test_id,\n",
    "                                    'headline A': headline_A,\n",
    "                                    'headline B': headline_B,\n",
    "                                    'impressions A': impressions_A,\n",
    "                                    'impressions B': impressions_B,\n",
    "                                    'clicks A': clicks_A,\n",
    "                                    'clicks B': clicks_B}, ignore_index=True)\n",
    "\n",
    "# display the final DataFrame\n",
    "# print(final_df.tail())\n"
   ]
  },
  {
   "cell_type": "code",
   "execution_count": 32,
   "id": "9b2c520e-874a-4d10-800e-f92416db87d2",
   "metadata": {},
   "outputs": [],
   "source": [
    "final_df = final_df[(final_df['clicks A'] != 0) | (final_df['clicks B'] != 0)]"
   ]
  },
  {
   "cell_type": "code",
   "execution_count": 33,
   "id": "ef86d610-4929-4ab1-8319-f5fd9c111d00",
   "metadata": {},
   "outputs": [
    {
     "data": {
      "text/plain": [
       "(44798, 7)"
      ]
     },
     "execution_count": 33,
     "metadata": {},
     "output_type": "execute_result"
    }
   ],
   "source": [
    "final_df.shape"
   ]
  },
  {
   "cell_type": "code",
   "execution_count": 34,
   "id": "c0d1d089-387e-46bb-8ddc-0b0c35664993",
   "metadata": {},
   "outputs": [],
   "source": [
    "final_df = final_df[final_df['headline A']!=final_df['headline B']]"
   ]
  },
  {
   "cell_type": "code",
   "execution_count": 35,
   "id": "05614fd3-a3a3-4837-8f3d-1d142f982a52",
   "metadata": {},
   "outputs": [
    {
     "data": {
      "text/html": [
       "<div>\n",
       "<style scoped>\n",
       "    .dataframe tbody tr th:only-of-type {\n",
       "        vertical-align: middle;\n",
       "    }\n",
       "\n",
       "    .dataframe tbody tr th {\n",
       "        vertical-align: top;\n",
       "    }\n",
       "\n",
       "    .dataframe thead th {\n",
       "        text-align: right;\n",
       "    }\n",
       "</style>\n",
       "<table border=\"1\" class=\"dataframe\">\n",
       "  <thead>\n",
       "    <tr style=\"text-align: right;\">\n",
       "      <th></th>\n",
       "      <th>clickability_test_id</th>\n",
       "      <th>headline A</th>\n",
       "      <th>headline B</th>\n",
       "      <th>impressions A</th>\n",
       "      <th>impressions B</th>\n",
       "      <th>clicks A</th>\n",
       "      <th>clicks B</th>\n",
       "    </tr>\n",
       "  </thead>\n",
       "  <tbody>\n",
       "    <tr>\n",
       "      <th>0</th>\n",
       "      <td>51436061220cb800020001e7</td>\n",
       "      <td>Creationism Has Nothing To Do With Christianit...</td>\n",
       "      <td>The One Where A Creationist Picks A Fight And ...</td>\n",
       "      <td>2551</td>\n",
       "      <td>2629</td>\n",
       "      <td>39</td>\n",
       "      <td>68</td>\n",
       "    </tr>\n",
       "    <tr>\n",
       "      <th>1</th>\n",
       "      <td>51436061220cb800020001e7</td>\n",
       "      <td>Creationism Has Nothing To Do With Christianit...</td>\n",
       "      <td>Creationism Shouldn't Be Taught In Science Cla...</td>\n",
       "      <td>2551</td>\n",
       "      <td>2539</td>\n",
       "      <td>39</td>\n",
       "      <td>49</td>\n",
       "    </tr>\n",
       "    <tr>\n",
       "      <th>2</th>\n",
       "      <td>51436061220cb800020001e7</td>\n",
       "      <td>Creationism Has Nothing To Do With Christianit...</td>\n",
       "      <td>God Finds Out About Creationism And Sends A Re...</td>\n",
       "      <td>2551</td>\n",
       "      <td>2661</td>\n",
       "      <td>39</td>\n",
       "      <td>63</td>\n",
       "    </tr>\n",
       "    <tr>\n",
       "      <th>3</th>\n",
       "      <td>51436061220cb800020001e7</td>\n",
       "      <td>The One Where A Creationist Picks A Fight And ...</td>\n",
       "      <td>Creationism Shouldn't Be Taught In Science Cla...</td>\n",
       "      <td>2629</td>\n",
       "      <td>2539</td>\n",
       "      <td>68</td>\n",
       "      <td>49</td>\n",
       "    </tr>\n",
       "    <tr>\n",
       "      <th>4</th>\n",
       "      <td>51436061220cb800020001e7</td>\n",
       "      <td>The One Where A Creationist Picks A Fight And ...</td>\n",
       "      <td>God Finds Out About Creationism And Sends A Re...</td>\n",
       "      <td>2629</td>\n",
       "      <td>2661</td>\n",
       "      <td>68</td>\n",
       "      <td>63</td>\n",
       "    </tr>\n",
       "  </tbody>\n",
       "</table>\n",
       "</div>"
      ],
      "text/plain": [
       "       clickability_test_id  \\\n",
       "0  51436061220cb800020001e7   \n",
       "1  51436061220cb800020001e7   \n",
       "2  51436061220cb800020001e7   \n",
       "3  51436061220cb800020001e7   \n",
       "4  51436061220cb800020001e7   \n",
       "\n",
       "                                          headline A  \\\n",
       "0  Creationism Has Nothing To Do With Christianit...   \n",
       "1  Creationism Has Nothing To Do With Christianit...   \n",
       "2  Creationism Has Nothing To Do With Christianit...   \n",
       "3  The One Where A Creationist Picks A Fight And ...   \n",
       "4  The One Where A Creationist Picks A Fight And ...   \n",
       "\n",
       "                                          headline B impressions A  \\\n",
       "0  The One Where A Creationist Picks A Fight And ...          2551   \n",
       "1  Creationism Shouldn't Be Taught In Science Cla...          2551   \n",
       "2  God Finds Out About Creationism And Sends A Re...          2551   \n",
       "3  Creationism Shouldn't Be Taught In Science Cla...          2629   \n",
       "4  God Finds Out About Creationism And Sends A Re...          2629   \n",
       "\n",
       "  impressions B clicks A clicks B  \n",
       "0          2629       39       68  \n",
       "1          2539       39       49  \n",
       "2          2661       39       63  \n",
       "3          2539       68       49  \n",
       "4          2661       68       63  "
      ]
     },
     "execution_count": 35,
     "metadata": {},
     "output_type": "execute_result"
    }
   ],
   "source": [
    "final_df.head()"
   ]
  },
  {
   "cell_type": "code",
   "execution_count": 36,
   "id": "3ea27a37-de13-4f12-823c-c20a8e83d151",
   "metadata": {},
   "outputs": [
    {
     "data": {
      "text/plain": [
       "(21770, 7)"
      ]
     },
     "execution_count": 36,
     "metadata": {},
     "output_type": "execute_result"
    }
   ],
   "source": [
    "final_df.shape"
   ]
  },
  {
   "cell_type": "code",
   "execution_count": 37,
   "id": "d51868e3-9409-47a4-94e6-2814ea5cf48b",
   "metadata": {},
   "outputs": [
    {
     "data": {
      "text/plain": [
       "2607"
      ]
     },
     "execution_count": 37,
     "metadata": {},
     "output_type": "execute_result"
    }
   ],
   "source": [
    "final_df['clickability_test_id'].nunique()"
   ]
  },
  {
   "cell_type": "markdown",
   "id": "9621e1d4-e8cb-417b-8eec-39b777551d97",
   "metadata": {},
   "source": [
    "Test statistics: Z - test\n",
    "$$ t = \\frac{(\\bar{\\pi_1} - \\bar{\\pi_2})}{\\sqrt{\\hat{\\pi}(1-\\hat{\\pi})(\\frac{1}{n_1}+\\frac{1}{n_2})}} \\sim N(0,1)$$\n",
    "where,\n",
    "$$ \\hat{\\pi} = \\frac{n_1\\hat{\\pi_1}+n_2\\hat{\\pi_2}}{n_1+n_2} $$\n",
    "\n",
    "We have normal distribution N(0,1)"
   ]
  },
  {
   "cell_type": "markdown",
   "id": "b02b318d-cde9-4142-b99a-35a7bb5199fb",
   "metadata": {},
   "source": [
    "Condition to check: $\\pi_1>\\pi_2$"
   ]
  },
  {
   "cell_type": "code",
   "execution_count": 38,
   "id": "75dfe7c9-3ecc-4edb-9872-3e30cb33e4ae",
   "metadata": {},
   "outputs": [
    {
     "data": {
      "text/html": [
       "<div>\n",
       "<style scoped>\n",
       "    .dataframe tbody tr th:only-of-type {\n",
       "        vertical-align: middle;\n",
       "    }\n",
       "\n",
       "    .dataframe tbody tr th {\n",
       "        vertical-align: top;\n",
       "    }\n",
       "\n",
       "    .dataframe thead th {\n",
       "        text-align: right;\n",
       "    }\n",
       "</style>\n",
       "<table border=\"1\" class=\"dataframe\">\n",
       "  <thead>\n",
       "    <tr style=\"text-align: right;\">\n",
       "      <th></th>\n",
       "      <th>clickability_test_id</th>\n",
       "      <th>headline A</th>\n",
       "      <th>headline B</th>\n",
       "      <th>impressions A</th>\n",
       "      <th>impressions B</th>\n",
       "      <th>clicks A</th>\n",
       "      <th>clicks B</th>\n",
       "      <th>p_a_gte_b</th>\n",
       "    </tr>\n",
       "  </thead>\n",
       "  <tbody>\n",
       "    <tr>\n",
       "      <th>0</th>\n",
       "      <td>51436061220cb800020001e7</td>\n",
       "      <td>Creationism Has Nothing To Do With Christianit...</td>\n",
       "      <td>The One Where A Creationist Picks A Fight And ...</td>\n",
       "      <td>2551</td>\n",
       "      <td>2629</td>\n",
       "      <td>39</td>\n",
       "      <td>68</td>\n",
       "      <td>0.003727</td>\n",
       "    </tr>\n",
       "    <tr>\n",
       "      <th>1</th>\n",
       "      <td>51436061220cb800020001e7</td>\n",
       "      <td>Creationism Has Nothing To Do With Christianit...</td>\n",
       "      <td>Creationism Shouldn't Be Taught In Science Cla...</td>\n",
       "      <td>2551</td>\n",
       "      <td>2539</td>\n",
       "      <td>39</td>\n",
       "      <td>49</td>\n",
       "      <td>0.136178</td>\n",
       "    </tr>\n",
       "    <tr>\n",
       "      <th>2</th>\n",
       "      <td>51436061220cb800020001e7</td>\n",
       "      <td>Creationism Has Nothing To Do With Christianit...</td>\n",
       "      <td>God Finds Out About Creationism And Sends A Re...</td>\n",
       "      <td>2551</td>\n",
       "      <td>2661</td>\n",
       "      <td>39</td>\n",
       "      <td>63</td>\n",
       "      <td>0.014438</td>\n",
       "    </tr>\n",
       "    <tr>\n",
       "      <th>3</th>\n",
       "      <td>51436061220cb800020001e7</td>\n",
       "      <td>The One Where A Creationist Picks A Fight And ...</td>\n",
       "      <td>Creationism Shouldn't Be Taught In Science Cla...</td>\n",
       "      <td>2629</td>\n",
       "      <td>2539</td>\n",
       "      <td>68</td>\n",
       "      <td>49</td>\n",
       "      <td>0.943685</td>\n",
       "    </tr>\n",
       "    <tr>\n",
       "      <th>4</th>\n",
       "      <td>51436061220cb800020001e7</td>\n",
       "      <td>The One Where A Creationist Picks A Fight And ...</td>\n",
       "      <td>God Finds Out About Creationism And Sends A Re...</td>\n",
       "      <td>2629</td>\n",
       "      <td>2661</td>\n",
       "      <td>68</td>\n",
       "      <td>63</td>\n",
       "      <td>0.695843</td>\n",
       "    </tr>\n",
       "  </tbody>\n",
       "</table>\n",
       "</div>"
      ],
      "text/plain": [
       "       clickability_test_id  \\\n",
       "0  51436061220cb800020001e7   \n",
       "1  51436061220cb800020001e7   \n",
       "2  51436061220cb800020001e7   \n",
       "3  51436061220cb800020001e7   \n",
       "4  51436061220cb800020001e7   \n",
       "\n",
       "                                          headline A  \\\n",
       "0  Creationism Has Nothing To Do With Christianit...   \n",
       "1  Creationism Has Nothing To Do With Christianit...   \n",
       "2  Creationism Has Nothing To Do With Christianit...   \n",
       "3  The One Where A Creationist Picks A Fight And ...   \n",
       "4  The One Where A Creationist Picks A Fight And ...   \n",
       "\n",
       "                                          headline B impressions A  \\\n",
       "0  The One Where A Creationist Picks A Fight And ...          2551   \n",
       "1  Creationism Shouldn't Be Taught In Science Cla...          2551   \n",
       "2  God Finds Out About Creationism And Sends A Re...          2551   \n",
       "3  Creationism Shouldn't Be Taught In Science Cla...          2629   \n",
       "4  God Finds Out About Creationism And Sends A Re...          2629   \n",
       "\n",
       "  impressions B clicks A clicks B  p_a_gte_b  \n",
       "0          2629       39       68   0.003727  \n",
       "1          2539       39       49   0.136178  \n",
       "2          2661       39       63   0.014438  \n",
       "3          2539       68       49   0.943685  \n",
       "4          2661       68       63   0.695843  "
      ]
     },
     "execution_count": 38,
     "metadata": {},
     "output_type": "execute_result"
    }
   ],
   "source": [
    "n1 = final_df['impressions A']\n",
    "n2 = final_df['impressions B']\n",
    "pi1hat = final_df['clicks A']/n1\n",
    "pi2hat = final_df['clicks B']/n2\n",
    "pihat = (n1*pi1hat + n2*pi2hat) / (n1 + n2)\n",
    "denom = pihat * (1-pihat) * (1/n1 + 1/n2)\n",
    "denom = denom.astype(float)\n",
    "t = (pi1hat - pi2hat) / np.sqrt(denom)\n",
    "t=t.astype(float)\n",
    "pv = stats.norm.cdf(t)\n",
    "final_df['p_a_gte_b'] = pv\n",
    "final_df.head()"
   ]
  },
  {
   "cell_type": "code",
   "execution_count": 12,
   "id": "01ff0e3f-961b-4351-8b2d-f4f6a26fff80",
   "metadata": {},
   "outputs": [],
   "source": [
    "def build_bow_vectorizer(df):\n",
    "    corpus = np.concatenate([df['headline A'].values,\n",
    "                             df['headline B'].values])\n",
    "    vectorizer = CountVectorizer(ngram_range=(1,2),\n",
    "                                 lowercase=True,\n",
    "                                 binary=True,\n",
    "                                 max_df=0.6,\n",
    "                                 min_df=0.005)\n",
    "    vectorizer.fit(corpus)\n",
    "    return vectorizer"
   ]
  },
  {
   "cell_type": "code",
   "execution_count": 13,
   "id": "dd61c051-22e6-4366-a5e3-e9b601abeada",
   "metadata": {},
   "outputs": [],
   "source": [
    "bow_vector = build_bow_vectorizer(final_df)"
   ]
  },
  {
   "cell_type": "code",
   "execution_count": 14,
   "id": "c9736f3d-5af7-4cde-a08e-a5d811504e2c",
   "metadata": {},
   "outputs": [],
   "source": [
    "features = bow_vector.get_feature_names()\n",
    "corpuss = np.concatenate([final_df['headline A'].values,final_df['headline B'].values],axis=0)\n",
    "bow = bow_vector.transform(corpuss)"
   ]
  },
  {
   "cell_type": "code",
   "execution_count": 15,
   "id": "3f96e52e-e45f-41c1-a5cf-dff4665319ca",
   "metadata": {},
   "outputs": [
    {
     "data": {
      "text/plain": [
       "(43540, 519)"
      ]
     },
     "execution_count": 15,
     "metadata": {},
     "output_type": "execute_result"
    }
   ],
   "source": [
    "bow.shape"
   ]
  },
  {
   "cell_type": "markdown",
   "id": "8d950cf9-b93c-44bb-9540-2dcad6a6eab1",
   "metadata": {},
   "source": [
    "We have 519 features and we have '1' if the feature is avaiable in headline"
   ]
  },
  {
   "cell_type": "code",
   "execution_count": 16,
   "id": "8923a164-0e5c-4380-8c0f-ab7ac37878ee",
   "metadata": {},
   "outputs": [
    {
     "data": {
      "text/plain": [
       "(21770, 8)"
      ]
     },
     "execution_count": 16,
     "metadata": {},
     "output_type": "execute_result"
    }
   ],
   "source": [
    "final_df.shape"
   ]
  },
  {
   "cell_type": "code",
   "execution_count": 17,
   "id": "9861262f-c727-4765-8264-a7ff03dfd7de",
   "metadata": {},
   "outputs": [
    {
     "data": {
      "text/plain": [
       "'The One Where A Creationist Picks A Fight And Loses To A Priest'"
      ]
     },
     "execution_count": 16,
     "metadata": {},
     "output_type": "execute_result"
    }
   ],
   "source": [
    "corpuss[21770]"
   ]
  },
  {
   "cell_type": "code",
   "execution_count": 18,
   "id": "2e2d8bcc-9074-4a6c-92e0-ea65d22be46d",
   "metadata": {},
   "outputs": [
    {
     "data": {
      "text/plain": [
       "('The One Where A Creationist Picks A Fight And Loses To A Priest',\n",
       " 'God Finds Out About Creationism And Sends A Representative To Put A Stop To It')"
      ]
     },
     "execution_count": 17,
     "metadata": {},
     "output_type": "execute_result"
    }
   ],
   "source": [
    "corpuss[4],corpuss[final_df.shape[0]+4]"
   ]
  },
  {
   "cell_type": "markdown",
   "id": "38b07100-2519-47fc-9ab9-85737ff489b3",
   "metadata": {},
   "source": [
    "Modelling difference between 2 headlines"
   ]
  },
  {
   "cell_type": "code",
   "execution_count": 19,
   "id": "1443ace6-6e04-4425-b50a-b06e073f8ba1",
   "metadata": {},
   "outputs": [],
   "source": [
    "# bow[0].toarray()"
   ]
  },
  {
   "cell_type": "code",
   "execution_count": 17,
   "id": "0fc468c6-99be-4752-bef9-dc1501354737",
   "metadata": {},
   "outputs": [],
   "source": [
    "# headline_embedd=np.empty(final_df.shape[0],dtype='int')\n",
    "headline_embedd=[]\n",
    "for i in range(final_df.shape[0]):\n",
    "    headline_embedd.append((bow[i]-bow[i+final_df.shape[0]]).toarray()[0])"
   ]
  },
  {
   "cell_type": "code",
   "execution_count": 18,
   "id": "040a665b-6204-488b-b87f-db576d26ecc8",
   "metadata": {},
   "outputs": [],
   "source": [
    "# (bow[0]-bow[final_df.shape[0]]).toarray()[0]"
   ]
  },
  {
   "cell_type": "code",
   "execution_count": 19,
   "id": "cd7efb99-9c0f-4bbc-82b1-520744c8af7e",
   "metadata": {},
   "outputs": [
    {
     "data": {
      "text/plain": [
       "(21770, 519)"
      ]
     },
     "execution_count": 19,
     "metadata": {},
     "output_type": "execute_result"
    }
   ],
   "source": [
    "headline_embedd = np.array(headline_embedd)\n",
    "headline_embedd.shape"
   ]
  },
  {
   "cell_type": "markdown",
   "id": "b4797c77-0cb1-4eaf-8be8-fd399a0599b3",
   "metadata": {},
   "source": [
    "We have only 21k records which are having different headlines for exploratory csv.<br>\n",
    "104k records in confirmatory csv."
   ]
  },
  {
   "cell_type": "code",
   "execution_count": 20,
   "id": "9b95a7ee-d4a7-4ce2-aeca-bf67ba195c7d",
   "metadata": {},
   "outputs": [],
   "source": [
    "def logit(p):\n",
    "    return np.log(p / (1 - p))\n",
    "\n",
    "def sigmoid(x):\n",
    "    return 1 / (1 + np.exp(-x))"
   ]
  },
  {
   "cell_type": "code",
   "execution_count": 21,
   "id": "1a47c03d-f2e0-4d23-a02c-48defad0830f",
   "metadata": {},
   "outputs": [],
   "source": [
    "# final_df[final_df['p_a_gte_b']==epsilon]"
   ]
  },
  {
   "cell_type": "code",
   "execution_count": 22,
   "id": "d067f43c-9311-4306-9bec-13685e04587d",
   "metadata": {},
   "outputs": [],
   "source": [
    "epsilon = 1e-8\n",
    "# Update values in 'p_a_gte_b' column of final_df where condition is met\n",
    "final_df.loc[final_df['p_a_gte_b'] == 1, 'p_a_gte_b'] = epsilon  #So that logit doesnt become inf\n",
    "\n",
    "X=headline_embedd\n",
    "Y=final_df['p_a_gte_b']\n",
    "x_train, x_test, y_train, y_test = train_test_split(X,Y,test_size=0.2,random_state=42)"
   ]
  },
  {
   "cell_type": "code",
   "execution_count": 23,
   "id": "c01f146b-a890-4ea6-84f0-ec5797b378b9",
   "metadata": {},
   "outputs": [],
   "source": [
    "target_train = logit(y_train)"
   ]
  },
  {
   "cell_type": "code",
   "execution_count": 24,
   "id": "c08a06b7-ff57-4694-80e0-cc535e0ea5b7",
   "metadata": {},
   "outputs": [],
   "source": [
    "base_model = LinearRegression().fit(x_train, target_train)"
   ]
  },
  {
   "cell_type": "code",
   "execution_count": 25,
   "id": "55be7f1b-996d-4f2e-9e34-9a0b4164a1f5",
   "metadata": {},
   "outputs": [
    {
     "data": {
      "text/plain": [
       "0.16234364109562108"
      ]
     },
     "execution_count": 25,
     "metadata": {},
     "output_type": "execute_result"
    }
   ],
   "source": [
    "y_pred = base_model.predict(x_test)\n",
    "y_pred_pv = sigmoid(y_pred)\n",
    "mse_bow = mean_squared_error(y_test,y_pred_pv)\n",
    "mse_bow"
   ]
  },
  {
   "cell_type": "code",
   "execution_count": null,
   "id": "c63929a7-cc56-4e15-9f73-1f11471bdf4d",
   "metadata": {},
   "outputs": [],
   "source": []
  },
  {
   "cell_type": "code",
   "execution_count": null,
   "id": "ad91e183-9ab4-4707-9b72-19a07fe3017b",
   "metadata": {},
   "outputs": [],
   "source": []
  },
  {
   "cell_type": "markdown",
   "id": "6302a480-7f98-4d86-8820-b7f4853fe627",
   "metadata": {},
   "source": [
    "0.16234 - MSE from bow vectorization = exploratory data<br>\n",
    "0.1562 - MSE from bow vectorization = confirmatory data"
   ]
  },
  {
   "cell_type": "markdown",
   "id": "cda162a5-7577-48d9-8ade-6b9332268fe0",
   "metadata": {},
   "source": [
    "## Using sentence transformer instead of Distilbert last hidden state activation"
   ]
  },
  {
   "cell_type": "code",
   "execution_count": 37,
   "id": "4a125fc6-c471-40c9-8825-c34ee457df82",
   "metadata": {},
   "outputs": [],
   "source": [
    "## does the sentence transformer get the embedding with what words are in what position as it takes whole sentence. \n",
    "# hows it diffferent from tokenizer and model fit by distilbert"
   ]
  },
  {
   "cell_type": "code",
   "execution_count": null,
   "id": "6c8238ad-a157-46bd-81ca-442900f0acc3",
   "metadata": {},
   "outputs": [],
   "source": []
  },
  {
   "cell_type": "code",
   "execution_count": 39,
   "id": "4a05ce29-83f3-4023-97fe-bbb45e6d45bc",
   "metadata": {
    "tags": []
   },
   "outputs": [
    {
     "data": {
      "application/vnd.jupyter.widget-view+json": {
       "model_id": "009b23307b0e44a5a81ab8c6b82f67ed",
       "version_major": 2,
       "version_minor": 0
      },
      "text/plain": [
       "Batches:   0%|          | 0/3278 [00:00<?, ?it/s]"
      ]
     },
     "metadata": {},
     "output_type": "display_data"
    },
    {
     "data": {
      "application/vnd.jupyter.widget-view+json": {
       "model_id": "38c4da87fa664bf792b9627d8e299595",
       "version_major": 2,
       "version_minor": 0
      },
      "text/plain": [
       "Batches:   0%|          | 0/3278 [00:00<?, ?it/s]"
      ]
     },
     "metadata": {},
     "output_type": "display_data"
    }
   ],
   "source": [
    "from sentence_transformers import SentenceTransformer\n",
    "model = SentenceTransformer('all-MiniLM-L6-v2')\n",
    "text_A = list(final_df['headline A'].values)\n",
    "text_B = list(final_df['headline B'].values)\n",
    "\n",
    "#Sentences are encoded by calling model.encode()\n",
    "embeddings_A = model.encode(text_A,output_value='sentence_embedding',show_progress_bar=True)\n",
    "embeddings_B = model.encode(text_B,output_value='sentence_embedding',show_progress_bar=True)"
   ]
  },
  {
   "cell_type": "code",
   "execution_count": 41,
   "id": "6c024256-4172-4a29-b3e6-95f47130fbea",
   "metadata": {},
   "outputs": [],
   "source": [
    "sent_headline_embedd = embeddings_A-embeddings_B"
   ]
  },
  {
   "cell_type": "code",
   "execution_count": 65,
   "id": "218a07b7-af71-4ee8-88fc-cb31a44b05a6",
   "metadata": {},
   "outputs": [],
   "source": [
    "X=sent_headline_embedd\n",
    "Y=final_df['p_a_gte_b']\n",
    "x_train, x_test, y_train, y_test = train_test_split(X,Y,test_size=0.2,random_state=42)\n",
    "target_train = logit(y_train)"
   ]
  },
  {
   "cell_type": "code",
   "execution_count": 66,
   "id": "cd424503-b6c8-45fb-8e7c-0fffb1605a39",
   "metadata": {},
   "outputs": [],
   "source": [
    "base_model = LinearRegression().fit(x_train, target_train)"
   ]
  },
  {
   "cell_type": "code",
   "execution_count": 46,
   "id": "487ee6c9-723a-44a8-aa9f-ee2efa7086d6",
   "metadata": {},
   "outputs": [
    {
     "data": {
      "text/plain": [
       "0.1507556584095765"
      ]
     },
     "execution_count": 46,
     "metadata": {},
     "output_type": "execute_result"
    }
   ],
   "source": [
    "y_pred = base_model.predict(x_test)\n",
    "y_pred_pv = sigmoid(y_pred)\n",
    "mse_sentence_transformer = mean_squared_error(y_test,y_pred_pv)\n",
    "mse_sentence_transformer"
   ]
  },
  {
   "cell_type": "code",
   "execution_count": 67,
   "id": "0226d5e5-f84d-4678-b996-a2b53a24323b",
   "metadata": {},
   "outputs": [
    {
     "data": {
      "text/plain": [
       "23.56126400542451"
      ]
     },
     "execution_count": 67,
     "metadata": {},
     "output_type": "execute_result"
    }
   ],
   "source": [
    "mean_squared_error(logit(y_test),y_pred)"
   ]
  },
  {
   "cell_type": "markdown",
   "id": "e3249fd8-5b78-443b-896b-f6264c73e8c4",
   "metadata": {},
   "source": [
    "0.159 MSE with sentence transformer embeddings - exploratory<br>\n",
    "0.150 MSE with sentence transformer embeddings - confirmatory\n"
   ]
  },
  {
   "cell_type": "code",
   "execution_count": 61,
   "id": "0743d7b3-70dd-4020-94da-c7f75b2e2f53",
   "metadata": {},
   "outputs": [
    {
     "data": {
      "image/png": "[encoded data removed]",
      "text/plain": [
       "<Figure size 640x480 with 1 Axes>"
      ]
     },
     "metadata": {},
     "output_type": "display_data"
    }
   ],
   "source": [
    "embedding_type = ['BoW','Sentence Transformer']\n",
    "plt.plot(embedding_type,[mse_bow,mse_sentence_transformer])\n",
    "plt.show()\n"
   ]
  },
  {
   "cell_type": "code",
   "execution_count": null,
   "id": "cbed1417-81a6-42e6-86cd-50754265bc3b",
   "metadata": {},
   "outputs": [],
   "source": []
  },
  {
   "cell_type": "code",
   "execution_count": null,
   "id": "c6b03858-7d55-4d40-a7b4-3ab9138b2916",
   "metadata": {},
   "outputs": [],
   "source": []
  },
  {
   "cell_type": "code",
   "execution_count": 29,
   "id": "790125a7-e07a-4fa2-9b17-6d397648cb83",
   "metadata": {},
   "outputs": [],
   "source": [
    "# final_df['headline A'].values"
   ]
  },
  {
   "cell_type": "code",
   "execution_count": 62,
   "id": "64ae199e-cf8e-494e-ad0b-2e6bd8252e90",
   "metadata": {},
   "outputs": [
    {
     "name": "stderr",
     "output_type": "stream",
     "text": [
      "Some weights of the model checkpoint at distilbert-base-uncased were not used when initializing DistilBertModel: ['vocab_layer_norm.weight', 'vocab_layer_norm.bias', 'vocab_transform.bias', 'vocab_projector.bias', 'vocab_projector.weight', 'vocab_transform.weight']\n",
      "- This IS expected if you are initializing DistilBertModel from the checkpoint of a model trained on another task or with another architecture (e.g. initializing a BertForSequenceClassification model from a BertForPreTraining model).\n",
      "- This IS NOT expected if you are initializing DistilBertModel from the checkpoint of a model that you expect to be exactly identical (initializing a BertForSequenceClassification model from a BertForSequenceClassification model).\n"
     ]
    },
    {
     "name": "stdout",
     "output_type": "stream",
     "text": [
      "torch.Size([104866, 73])\n"
     ]
    }
   ],
   "source": [
    "# Load pre-trained DistilBERT tokenizer and model\n",
    "tokenizer = DistilBertTokenizer.from_pretrained('distilbert-base-uncased')\n",
    "model = DistilBertModel.from_pretrained('distilbert-base-uncased')\n",
    "\n",
    "# Example text input\n",
    "text_A = list(final_df['headline A'].values)\n",
    "text_B = list(final_df['headline B'].values)\n",
    "# Tokenize text input\n",
    "tokens = tokenizer(text_A,text_B,padding=True, truncation=True, add_special_tokens=True, return_tensors='pt')\n",
    "print(tokens['input_ids'].shape)\n",
    "\n",
    "input_ids_a = tokens['input_ids'][0]\n",
    "attention_mask_a = tokens['attention_mask'][0]\n",
    "input_ids_b = tokens['input_ids'][1]\n",
    "attention_mask_b = tokens['attention_mask'][1]\n",
    "# print(tokens['input_ids'].shape)\n",
    "# Pass tokens through DistilBERT model\n",
    "# with torch.no_grad():\n",
    "#     outputs = model(tokens['input_ids'], attention_mask=tokens['attention_mask'])\n",
    "    \n",
    "# # Extract the last hidden state activations\n",
    "# last_hidden_state = outputs[0].squeeze().numpy()\n",
    "\n",
    "# # Print the last hidden state activations\n",
    "# print(\"Last Hidden State Activations:\")\n",
    "# print(last_hidden_state.shape)\n"
   ]
  },
  {
   "cell_type": "code",
   "execution_count": 30,
   "id": "f9baf0c4-78e0-4f04-a0a9-6edbf9cfc798",
   "metadata": {},
   "outputs": [],
   "source": [
    "# tokens['input_ids'].shape"
   ]
  },
  {
   "cell_type": "code",
   "execution_count": 31,
   "id": "56ba207e-414e-4a5a-b08d-7d469a084de4",
   "metadata": {},
   "outputs": [
    {
     "data": {
      "text/plain": [
       "(104866, 8)"
      ]
     },
     "execution_count": 31,
     "metadata": {},
     "output_type": "execute_result"
    }
   ],
   "source": [
    "final_df.shape"
   ]
  },
  {
   "cell_type": "code",
   "execution_count": 32,
   "id": "f1a43f4c-b7bb-45e0-bfc2-8fcc63684fcf",
   "metadata": {},
   "outputs": [],
   "source": [
    "# def build_disbert_vectorizer(df):\n",
    "#     tokenizer = DistilBertTokenizer.from_pretrained('distilbert-base-uncased')\n",
    "#     model = DistilBertModel.from_pretrained('distilbert-base-uncased')\n",
    "    \n",
    "#     text_A = list(final_df['headline A'].values)\n",
    "#     text_B = list(final_df['headline B'].values)\n",
    "#     # Tokenize text input\n",
    "#     tokens = tokenizer(text_A,text_B,padding=True, truncation=True, add_special_tokens=True, return_tensors='pt')\n",
    "#     print(tokens['input_ids'].shape)\n",
    "    \n",
    "#     input_ids_a = tokens['input_ids'][0]\n",
    "#     attention_mask_a = tokens['attention_mask'][0]\n",
    "#     input_ids_b = tokens['input_ids'][1]\n",
    "#     attention_mask_b = tokens['attention_mask'][1]\n",
    "#     # Pass tokens through DistilBERT model\n",
    "#     with torch.no_grad():\n",
    "#         outputs_A = model(input_ids_a, attention_mask=attention_mask_a)\n",
    "#         outputs_B = model(input_ids_b, attention_mask=attention_mask_b)\n",
    "#     # Extract the last hidden state activations\n",
    "#     last_hidden_state_A = outputs_A[0].squeeze().numpy()\n",
    "#     last_hidden_state_B = outputs_B[0].squeeze().numpy()\n",
    "    \n",
    "#     # Print the last hidden state activations\n",
    "#     print(\"Last Hidden State Activations:\")\n",
    "#     print(last_hidden_state_A.shape,last_hidden_state_B.shape)\n",
    "#     return last_hidden_state_A,last_hidden_state_B\n",
    "    "
   ]
  },
  {
   "cell_type": "code",
   "execution_count": 33,
   "id": "af563b0e-5c51-485d-9c6b-95f656e08d6d",
   "metadata": {},
   "outputs": [],
   "source": [
    "# input_ids_b"
   ]
  },
  {
   "cell_type": "code",
   "execution_count": 34,
   "id": "c6c641db-f054-4bcb-ab6c-bac74e276dc2",
   "metadata": {},
   "outputs": [],
   "source": [
    "# dis_embed_A,dis_embed_B = build_disbert_vectorizer(final_df)"
   ]
  },
  {
   "cell_type": "code",
   "execution_count": 44,
   "id": "9dd0e53b-f656-45b9-8dbb-f12c2a7bedb4",
   "metadata": {},
   "outputs": [
    {
     "name": "stderr",
     "output_type": "stream",
     "text": [
      "Some weights of the model checkpoint at distilbert-base-uncased were not used when initializing DistilBertModel: ['vocab_layer_norm.bias', 'vocab_transform.weight', 'vocab_transform.bias', 'vocab_layer_norm.weight', 'vocab_projector.weight', 'vocab_projector.bias']\n",
      "- This IS expected if you are initializing DistilBertModel from the checkpoint of a model trained on another task or with another architecture (e.g. initializing a BertForSequenceClassification model from a BertForPreTraining model).\n",
      "- This IS NOT expected if you are initializing DistilBertModel from the checkpoint of a model that you expect to be exactly identical (initializing a BertForSequenceClassification model from a BertForSequenceClassification model).\n"
     ]
    },
    {
     "ename": "KeyboardInterrupt",
     "evalue": "",
     "output_type": "error",
     "traceback": [
      "\u001b[0;31m---------------------------------------------------------------------------\u001b[0m",
      "\u001b[0;31mKeyboardInterrupt\u001b[0m                         Traceback (most recent call last)",
      "Cell \u001b[0;32mIn[44], line 17\u001b[0m\n\u001b[1;32m      9\u001b[0m \u001b[38;5;66;03m# print(tokens['input_ids'].shape)\u001b[39;00m\n\u001b[1;32m     10\u001b[0m \n\u001b[1;32m     11\u001b[0m \u001b[38;5;66;03m# input_ids_a = tokens['input_ids'][0]\u001b[39;00m\n\u001b[0;32m   (...)\u001b[0m\n\u001b[1;32m     14\u001b[0m \u001b[38;5;66;03m# attention_mask_b = tokens['attention_mask'][1]\u001b[39;00m\n\u001b[1;32m     15\u001b[0m \u001b[38;5;66;03m# Pass tokens through DistilBERT model\u001b[39;00m\n\u001b[1;32m     16\u001b[0m \u001b[38;5;28;01mwith\u001b[39;00m torch\u001b[38;5;241m.\u001b[39mno_grad():\n\u001b[0;32m---> 17\u001b[0m     OP_A \u001b[38;5;241m=\u001b[39m \u001b[43mmodel\u001b[49m\u001b[43m(\u001b[49m\u001b[43mtokens_A\u001b[49m\u001b[43m[\u001b[49m\u001b[38;5;124;43m'\u001b[39;49m\u001b[38;5;124;43minput_ids\u001b[39;49m\u001b[38;5;124;43m'\u001b[39;49m\u001b[43m]\u001b[49m\u001b[43m,\u001b[49m\u001b[43m \u001b[49m\u001b[43mattention_mask\u001b[49m\u001b[38;5;241;43m=\u001b[39;49m\u001b[43mtokens_A\u001b[49m\u001b[43m[\u001b[49m\u001b[38;5;124;43m'\u001b[39;49m\u001b[38;5;124;43mattention_mask\u001b[39;49m\u001b[38;5;124;43m'\u001b[39;49m\u001b[43m]\u001b[49m\u001b[43m)\u001b[49m\n\u001b[1;32m     18\u001b[0m     OP_B \u001b[38;5;241m=\u001b[39m model(tokens_B[\u001b[38;5;124m'\u001b[39m\u001b[38;5;124minput_ids\u001b[39m\u001b[38;5;124m'\u001b[39m], attention_mask\u001b[38;5;241m=\u001b[39mtokens_B[\u001b[38;5;124m'\u001b[39m\u001b[38;5;124mattention_mask\u001b[39m\u001b[38;5;124m'\u001b[39m])\n\u001b[1;32m     19\u001b[0m \u001b[38;5;66;03m# Extract the last hidden state activations\u001b[39;00m\n",
      "File \u001b[0;32m~/opt/anaconda3/envs/proj/lib/python3.9/site-packages/torch/nn/modules/module.py:1190\u001b[0m, in \u001b[0;36mModule._call_impl\u001b[0;34m(self, *input, **kwargs)\u001b[0m\n\u001b[1;32m   1186\u001b[0m \u001b[38;5;66;03m# If we don't have any hooks, we want to skip the rest of the logic in\u001b[39;00m\n\u001b[1;32m   1187\u001b[0m \u001b[38;5;66;03m# this function, and just call forward.\u001b[39;00m\n\u001b[1;32m   1188\u001b[0m \u001b[38;5;28;01mif\u001b[39;00m \u001b[38;5;129;01mnot\u001b[39;00m (\u001b[38;5;28mself\u001b[39m\u001b[38;5;241m.\u001b[39m_backward_hooks \u001b[38;5;129;01mor\u001b[39;00m \u001b[38;5;28mself\u001b[39m\u001b[38;5;241m.\u001b[39m_forward_hooks \u001b[38;5;129;01mor\u001b[39;00m \u001b[38;5;28mself\u001b[39m\u001b[38;5;241m.\u001b[39m_forward_pre_hooks \u001b[38;5;129;01mor\u001b[39;00m _global_backward_hooks\n\u001b[1;32m   1189\u001b[0m         \u001b[38;5;129;01mor\u001b[39;00m _global_forward_hooks \u001b[38;5;129;01mor\u001b[39;00m _global_forward_pre_hooks):\n\u001b[0;32m-> 1190\u001b[0m     \u001b[38;5;28;01mreturn\u001b[39;00m \u001b[43mforward_call\u001b[49m\u001b[43m(\u001b[49m\u001b[38;5;241;43m*\u001b[39;49m\u001b[38;5;28;43minput\u001b[39;49m\u001b[43m,\u001b[49m\u001b[43m \u001b[49m\u001b[38;5;241;43m*\u001b[39;49m\u001b[38;5;241;43m*\u001b[39;49m\u001b[43mkwargs\u001b[49m\u001b[43m)\u001b[49m\n\u001b[1;32m   1191\u001b[0m \u001b[38;5;66;03m# Do not call functions when jit is used\u001b[39;00m\n\u001b[1;32m   1192\u001b[0m full_backward_hooks, non_full_backward_hooks \u001b[38;5;241m=\u001b[39m [], []\n",
      "File \u001b[0;32m~/opt/anaconda3/envs/proj/lib/python3.9/site-packages/transformers/models/distilbert/modeling_distilbert.py:583\u001b[0m, in \u001b[0;36mDistilBertModel.forward\u001b[0;34m(self, input_ids, attention_mask, head_mask, inputs_embeds, output_attentions, output_hidden_states, return_dict)\u001b[0m\n\u001b[1;32m    579\u001b[0m head_mask \u001b[38;5;241m=\u001b[39m \u001b[38;5;28mself\u001b[39m\u001b[38;5;241m.\u001b[39mget_head_mask(head_mask, \u001b[38;5;28mself\u001b[39m\u001b[38;5;241m.\u001b[39mconfig\u001b[38;5;241m.\u001b[39mnum_hidden_layers)\n\u001b[1;32m    581\u001b[0m embeddings \u001b[38;5;241m=\u001b[39m \u001b[38;5;28mself\u001b[39m\u001b[38;5;241m.\u001b[39membeddings(input_ids, inputs_embeds)  \u001b[38;5;66;03m# (bs, seq_length, dim)\u001b[39;00m\n\u001b[0;32m--> 583\u001b[0m \u001b[38;5;28;01mreturn\u001b[39;00m \u001b[38;5;28;43mself\u001b[39;49m\u001b[38;5;241;43m.\u001b[39;49m\u001b[43mtransformer\u001b[49m\u001b[43m(\u001b[49m\n\u001b[1;32m    584\u001b[0m \u001b[43m    \u001b[49m\u001b[43mx\u001b[49m\u001b[38;5;241;43m=\u001b[39;49m\u001b[43membeddings\u001b[49m\u001b[43m,\u001b[49m\n\u001b[1;32m    585\u001b[0m \u001b[43m    \u001b[49m\u001b[43mattn_mask\u001b[49m\u001b[38;5;241;43m=\u001b[39;49m\u001b[43mattention_mask\u001b[49m\u001b[43m,\u001b[49m\n\u001b[1;32m    586\u001b[0m \u001b[43m    \u001b[49m\u001b[43mhead_mask\u001b[49m\u001b[38;5;241;43m=\u001b[39;49m\u001b[43mhead_mask\u001b[49m\u001b[43m,\u001b[49m\n\u001b[1;32m    587\u001b[0m \u001b[43m    \u001b[49m\u001b[43moutput_attentions\u001b[49m\u001b[38;5;241;43m=\u001b[39;49m\u001b[43moutput_attentions\u001b[49m\u001b[43m,\u001b[49m\n\u001b[1;32m    588\u001b[0m \u001b[43m    \u001b[49m\u001b[43moutput_hidden_states\u001b[49m\u001b[38;5;241;43m=\u001b[39;49m\u001b[43moutput_hidden_states\u001b[49m\u001b[43m,\u001b[49m\n\u001b[1;32m    589\u001b[0m \u001b[43m    \u001b[49m\u001b[43mreturn_dict\u001b[49m\u001b[38;5;241;43m=\u001b[39;49m\u001b[43mreturn_dict\u001b[49m\u001b[43m,\u001b[49m\n\u001b[1;32m    590\u001b[0m \u001b[43m\u001b[49m\u001b[43m)\u001b[49m\n",
      "File \u001b[0;32m~/opt/anaconda3/envs/proj/lib/python3.9/site-packages/torch/nn/modules/module.py:1190\u001b[0m, in \u001b[0;36mModule._call_impl\u001b[0;34m(self, *input, **kwargs)\u001b[0m\n\u001b[1;32m   1186\u001b[0m \u001b[38;5;66;03m# If we don't have any hooks, we want to skip the rest of the logic in\u001b[39;00m\n\u001b[1;32m   1187\u001b[0m \u001b[38;5;66;03m# this function, and just call forward.\u001b[39;00m\n\u001b[1;32m   1188\u001b[0m \u001b[38;5;28;01mif\u001b[39;00m \u001b[38;5;129;01mnot\u001b[39;00m (\u001b[38;5;28mself\u001b[39m\u001b[38;5;241m.\u001b[39m_backward_hooks \u001b[38;5;129;01mor\u001b[39;00m \u001b[38;5;28mself\u001b[39m\u001b[38;5;241m.\u001b[39m_forward_hooks \u001b[38;5;129;01mor\u001b[39;00m \u001b[38;5;28mself\u001b[39m\u001b[38;5;241m.\u001b[39m_forward_pre_hooks \u001b[38;5;129;01mor\u001b[39;00m _global_backward_hooks\n\u001b[1;32m   1189\u001b[0m         \u001b[38;5;129;01mor\u001b[39;00m _global_forward_hooks \u001b[38;5;129;01mor\u001b[39;00m _global_forward_pre_hooks):\n\u001b[0;32m-> 1190\u001b[0m     \u001b[38;5;28;01mreturn\u001b[39;00m \u001b[43mforward_call\u001b[49m\u001b[43m(\u001b[49m\u001b[38;5;241;43m*\u001b[39;49m\u001b[38;5;28;43minput\u001b[39;49m\u001b[43m,\u001b[49m\u001b[43m \u001b[49m\u001b[38;5;241;43m*\u001b[39;49m\u001b[38;5;241;43m*\u001b[39;49m\u001b[43mkwargs\u001b[49m\u001b[43m)\u001b[49m\n\u001b[1;32m   1191\u001b[0m \u001b[38;5;66;03m# Do not call functions when jit is used\u001b[39;00m\n\u001b[1;32m   1192\u001b[0m full_backward_hooks, non_full_backward_hooks \u001b[38;5;241m=\u001b[39m [], []\n",
      "File \u001b[0;32m~/opt/anaconda3/envs/proj/lib/python3.9/site-packages/transformers/models/distilbert/modeling_distilbert.py:359\u001b[0m, in \u001b[0;36mTransformer.forward\u001b[0;34m(self, x, attn_mask, head_mask, output_attentions, output_hidden_states, return_dict)\u001b[0m\n\u001b[1;32m    356\u001b[0m \u001b[38;5;28;01mif\u001b[39;00m output_hidden_states:\n\u001b[1;32m    357\u001b[0m     all_hidden_states \u001b[38;5;241m=\u001b[39m all_hidden_states \u001b[38;5;241m+\u001b[39m (hidden_state,)\n\u001b[0;32m--> 359\u001b[0m layer_outputs \u001b[38;5;241m=\u001b[39m \u001b[43mlayer_module\u001b[49m\u001b[43m(\u001b[49m\n\u001b[1;32m    360\u001b[0m \u001b[43m    \u001b[49m\u001b[43mx\u001b[49m\u001b[38;5;241;43m=\u001b[39;49m\u001b[43mhidden_state\u001b[49m\u001b[43m,\u001b[49m\u001b[43m \u001b[49m\u001b[43mattn_mask\u001b[49m\u001b[38;5;241;43m=\u001b[39;49m\u001b[43mattn_mask\u001b[49m\u001b[43m,\u001b[49m\u001b[43m \u001b[49m\u001b[43mhead_mask\u001b[49m\u001b[38;5;241;43m=\u001b[39;49m\u001b[43mhead_mask\u001b[49m\u001b[43m[\u001b[49m\u001b[43mi\u001b[49m\u001b[43m]\u001b[49m\u001b[43m,\u001b[49m\u001b[43m \u001b[49m\u001b[43moutput_attentions\u001b[49m\u001b[38;5;241;43m=\u001b[39;49m\u001b[43moutput_attentions\u001b[49m\n\u001b[1;32m    361\u001b[0m \u001b[43m\u001b[49m\u001b[43m)\u001b[49m\n\u001b[1;32m    362\u001b[0m hidden_state \u001b[38;5;241m=\u001b[39m layer_outputs[\u001b[38;5;241m-\u001b[39m\u001b[38;5;241m1\u001b[39m]\n\u001b[1;32m    364\u001b[0m \u001b[38;5;28;01mif\u001b[39;00m output_attentions:\n",
      "File \u001b[0;32m~/opt/anaconda3/envs/proj/lib/python3.9/site-packages/torch/nn/modules/module.py:1190\u001b[0m, in \u001b[0;36mModule._call_impl\u001b[0;34m(self, *input, **kwargs)\u001b[0m\n\u001b[1;32m   1186\u001b[0m \u001b[38;5;66;03m# If we don't have any hooks, we want to skip the rest of the logic in\u001b[39;00m\n\u001b[1;32m   1187\u001b[0m \u001b[38;5;66;03m# this function, and just call forward.\u001b[39;00m\n\u001b[1;32m   1188\u001b[0m \u001b[38;5;28;01mif\u001b[39;00m \u001b[38;5;129;01mnot\u001b[39;00m (\u001b[38;5;28mself\u001b[39m\u001b[38;5;241m.\u001b[39m_backward_hooks \u001b[38;5;129;01mor\u001b[39;00m \u001b[38;5;28mself\u001b[39m\u001b[38;5;241m.\u001b[39m_forward_hooks \u001b[38;5;129;01mor\u001b[39;00m \u001b[38;5;28mself\u001b[39m\u001b[38;5;241m.\u001b[39m_forward_pre_hooks \u001b[38;5;129;01mor\u001b[39;00m _global_backward_hooks\n\u001b[1;32m   1189\u001b[0m         \u001b[38;5;129;01mor\u001b[39;00m _global_forward_hooks \u001b[38;5;129;01mor\u001b[39;00m _global_forward_pre_hooks):\n\u001b[0;32m-> 1190\u001b[0m     \u001b[38;5;28;01mreturn\u001b[39;00m \u001b[43mforward_call\u001b[49m\u001b[43m(\u001b[49m\u001b[38;5;241;43m*\u001b[39;49m\u001b[38;5;28;43minput\u001b[39;49m\u001b[43m,\u001b[49m\u001b[43m \u001b[49m\u001b[38;5;241;43m*\u001b[39;49m\u001b[38;5;241;43m*\u001b[39;49m\u001b[43mkwargs\u001b[49m\u001b[43m)\u001b[49m\n\u001b[1;32m   1191\u001b[0m \u001b[38;5;66;03m# Do not call functions when jit is used\u001b[39;00m\n\u001b[1;32m   1192\u001b[0m full_backward_hooks, non_full_backward_hooks \u001b[38;5;241m=\u001b[39m [], []\n",
      "File \u001b[0;32m~/opt/anaconda3/envs/proj/lib/python3.9/site-packages/transformers/models/distilbert/modeling_distilbert.py:313\u001b[0m, in \u001b[0;36mTransformerBlock.forward\u001b[0;34m(self, x, attn_mask, head_mask, output_attentions)\u001b[0m\n\u001b[1;32m    310\u001b[0m sa_output \u001b[38;5;241m=\u001b[39m \u001b[38;5;28mself\u001b[39m\u001b[38;5;241m.\u001b[39msa_layer_norm(sa_output \u001b[38;5;241m+\u001b[39m x)  \u001b[38;5;66;03m# (bs, seq_length, dim)\u001b[39;00m\n\u001b[1;32m    312\u001b[0m \u001b[38;5;66;03m# Feed Forward Network\u001b[39;00m\n\u001b[0;32m--> 313\u001b[0m ffn_output \u001b[38;5;241m=\u001b[39m \u001b[38;5;28;43mself\u001b[39;49m\u001b[38;5;241;43m.\u001b[39;49m\u001b[43mffn\u001b[49m\u001b[43m(\u001b[49m\u001b[43msa_output\u001b[49m\u001b[43m)\u001b[49m  \u001b[38;5;66;03m# (bs, seq_length, dim)\u001b[39;00m\n\u001b[1;32m    314\u001b[0m ffn_output: torch\u001b[38;5;241m.\u001b[39mTensor \u001b[38;5;241m=\u001b[39m \u001b[38;5;28mself\u001b[39m\u001b[38;5;241m.\u001b[39moutput_layer_norm(ffn_output \u001b[38;5;241m+\u001b[39m sa_output)  \u001b[38;5;66;03m# (bs, seq_length, dim)\u001b[39;00m\n\u001b[1;32m    316\u001b[0m output \u001b[38;5;241m=\u001b[39m (ffn_output,)\n",
      "File \u001b[0;32m~/opt/anaconda3/envs/proj/lib/python3.9/site-packages/torch/nn/modules/module.py:1190\u001b[0m, in \u001b[0;36mModule._call_impl\u001b[0;34m(self, *input, **kwargs)\u001b[0m\n\u001b[1;32m   1186\u001b[0m \u001b[38;5;66;03m# If we don't have any hooks, we want to skip the rest of the logic in\u001b[39;00m\n\u001b[1;32m   1187\u001b[0m \u001b[38;5;66;03m# this function, and just call forward.\u001b[39;00m\n\u001b[1;32m   1188\u001b[0m \u001b[38;5;28;01mif\u001b[39;00m \u001b[38;5;129;01mnot\u001b[39;00m (\u001b[38;5;28mself\u001b[39m\u001b[38;5;241m.\u001b[39m_backward_hooks \u001b[38;5;129;01mor\u001b[39;00m \u001b[38;5;28mself\u001b[39m\u001b[38;5;241m.\u001b[39m_forward_hooks \u001b[38;5;129;01mor\u001b[39;00m \u001b[38;5;28mself\u001b[39m\u001b[38;5;241m.\u001b[39m_forward_pre_hooks \u001b[38;5;129;01mor\u001b[39;00m _global_backward_hooks\n\u001b[1;32m   1189\u001b[0m         \u001b[38;5;129;01mor\u001b[39;00m _global_forward_hooks \u001b[38;5;129;01mor\u001b[39;00m _global_forward_pre_hooks):\n\u001b[0;32m-> 1190\u001b[0m     \u001b[38;5;28;01mreturn\u001b[39;00m \u001b[43mforward_call\u001b[49m\u001b[43m(\u001b[49m\u001b[38;5;241;43m*\u001b[39;49m\u001b[38;5;28;43minput\u001b[39;49m\u001b[43m,\u001b[49m\u001b[43m \u001b[49m\u001b[38;5;241;43m*\u001b[39;49m\u001b[38;5;241;43m*\u001b[39;49m\u001b[43mkwargs\u001b[49m\u001b[43m)\u001b[49m\n\u001b[1;32m   1191\u001b[0m \u001b[38;5;66;03m# Do not call functions when jit is used\u001b[39;00m\n\u001b[1;32m   1192\u001b[0m full_backward_hooks, non_full_backward_hooks \u001b[38;5;241m=\u001b[39m [], []\n",
      "File \u001b[0;32m~/opt/anaconda3/envs/proj/lib/python3.9/site-packages/transformers/models/distilbert/modeling_distilbert.py:254\u001b[0m, in \u001b[0;36mFFN.forward\u001b[0;34m(self, input)\u001b[0m\n\u001b[1;32m    253\u001b[0m \u001b[38;5;28;01mdef\u001b[39;00m \u001b[38;5;21mforward\u001b[39m(\u001b[38;5;28mself\u001b[39m, \u001b[38;5;28minput\u001b[39m: torch\u001b[38;5;241m.\u001b[39mTensor) \u001b[38;5;241m-\u001b[39m\u001b[38;5;241m>\u001b[39m torch\u001b[38;5;241m.\u001b[39mTensor:\n\u001b[0;32m--> 254\u001b[0m     \u001b[38;5;28;01mreturn\u001b[39;00m \u001b[43mapply_chunking_to_forward\u001b[49m\u001b[43m(\u001b[49m\u001b[38;5;28;43mself\u001b[39;49m\u001b[38;5;241;43m.\u001b[39;49m\u001b[43mff_chunk\u001b[49m\u001b[43m,\u001b[49m\u001b[43m \u001b[49m\u001b[38;5;28;43mself\u001b[39;49m\u001b[38;5;241;43m.\u001b[39;49m\u001b[43mchunk_size_feed_forward\u001b[49m\u001b[43m,\u001b[49m\u001b[43m \u001b[49m\u001b[38;5;28;43mself\u001b[39;49m\u001b[38;5;241;43m.\u001b[39;49m\u001b[43mseq_len_dim\u001b[49m\u001b[43m,\u001b[49m\u001b[43m \u001b[49m\u001b[38;5;28;43minput\u001b[39;49m\u001b[43m)\u001b[49m\n",
      "File \u001b[0;32m~/opt/anaconda3/envs/proj/lib/python3.9/site-packages/transformers/pytorch_utils.py:248\u001b[0m, in \u001b[0;36mapply_chunking_to_forward\u001b[0;34m(forward_fn, chunk_size, chunk_dim, *input_tensors)\u001b[0m\n\u001b[1;32m    245\u001b[0m     \u001b[38;5;66;03m# concatenate output at same dimension\u001b[39;00m\n\u001b[1;32m    246\u001b[0m     \u001b[38;5;28;01mreturn\u001b[39;00m torch\u001b[38;5;241m.\u001b[39mcat(output_chunks, dim\u001b[38;5;241m=\u001b[39mchunk_dim)\n\u001b[0;32m--> 248\u001b[0m \u001b[38;5;28;01mreturn\u001b[39;00m \u001b[43mforward_fn\u001b[49m\u001b[43m(\u001b[49m\u001b[38;5;241;43m*\u001b[39;49m\u001b[43minput_tensors\u001b[49m\u001b[43m)\u001b[49m\n",
      "File \u001b[0;32m~/opt/anaconda3/envs/proj/lib/python3.9/site-packages/transformers/models/distilbert/modeling_distilbert.py:257\u001b[0m, in \u001b[0;36mFFN.ff_chunk\u001b[0;34m(self, input)\u001b[0m\n\u001b[1;32m    256\u001b[0m \u001b[38;5;28;01mdef\u001b[39;00m \u001b[38;5;21mff_chunk\u001b[39m(\u001b[38;5;28mself\u001b[39m, \u001b[38;5;28minput\u001b[39m: torch\u001b[38;5;241m.\u001b[39mTensor) \u001b[38;5;241m-\u001b[39m\u001b[38;5;241m>\u001b[39m torch\u001b[38;5;241m.\u001b[39mTensor:\n\u001b[0;32m--> 257\u001b[0m     x \u001b[38;5;241m=\u001b[39m \u001b[38;5;28;43mself\u001b[39;49m\u001b[38;5;241;43m.\u001b[39;49m\u001b[43mlin1\u001b[49m\u001b[43m(\u001b[49m\u001b[38;5;28;43minput\u001b[39;49m\u001b[43m)\u001b[49m\n\u001b[1;32m    258\u001b[0m     x \u001b[38;5;241m=\u001b[39m \u001b[38;5;28mself\u001b[39m\u001b[38;5;241m.\u001b[39mactivation(x)\n\u001b[1;32m    259\u001b[0m     x \u001b[38;5;241m=\u001b[39m \u001b[38;5;28mself\u001b[39m\u001b[38;5;241m.\u001b[39mlin2(x)\n",
      "File \u001b[0;32m~/opt/anaconda3/envs/proj/lib/python3.9/site-packages/torch/nn/modules/module.py:1190\u001b[0m, in \u001b[0;36mModule._call_impl\u001b[0;34m(self, *input, **kwargs)\u001b[0m\n\u001b[1;32m   1186\u001b[0m \u001b[38;5;66;03m# If we don't have any hooks, we want to skip the rest of the logic in\u001b[39;00m\n\u001b[1;32m   1187\u001b[0m \u001b[38;5;66;03m# this function, and just call forward.\u001b[39;00m\n\u001b[1;32m   1188\u001b[0m \u001b[38;5;28;01mif\u001b[39;00m \u001b[38;5;129;01mnot\u001b[39;00m (\u001b[38;5;28mself\u001b[39m\u001b[38;5;241m.\u001b[39m_backward_hooks \u001b[38;5;129;01mor\u001b[39;00m \u001b[38;5;28mself\u001b[39m\u001b[38;5;241m.\u001b[39m_forward_hooks \u001b[38;5;129;01mor\u001b[39;00m \u001b[38;5;28mself\u001b[39m\u001b[38;5;241m.\u001b[39m_forward_pre_hooks \u001b[38;5;129;01mor\u001b[39;00m _global_backward_hooks\n\u001b[1;32m   1189\u001b[0m         \u001b[38;5;129;01mor\u001b[39;00m _global_forward_hooks \u001b[38;5;129;01mor\u001b[39;00m _global_forward_pre_hooks):\n\u001b[0;32m-> 1190\u001b[0m     \u001b[38;5;28;01mreturn\u001b[39;00m \u001b[43mforward_call\u001b[49m\u001b[43m(\u001b[49m\u001b[38;5;241;43m*\u001b[39;49m\u001b[38;5;28;43minput\u001b[39;49m\u001b[43m,\u001b[49m\u001b[43m \u001b[49m\u001b[38;5;241;43m*\u001b[39;49m\u001b[38;5;241;43m*\u001b[39;49m\u001b[43mkwargs\u001b[49m\u001b[43m)\u001b[49m\n\u001b[1;32m   1191\u001b[0m \u001b[38;5;66;03m# Do not call functions when jit is used\u001b[39;00m\n\u001b[1;32m   1192\u001b[0m full_backward_hooks, non_full_backward_hooks \u001b[38;5;241m=\u001b[39m [], []\n",
      "File \u001b[0;32m~/opt/anaconda3/envs/proj/lib/python3.9/site-packages/torch/nn/modules/linear.py:114\u001b[0m, in \u001b[0;36mLinear.forward\u001b[0;34m(self, input)\u001b[0m\n\u001b[1;32m    113\u001b[0m \u001b[38;5;28;01mdef\u001b[39;00m \u001b[38;5;21mforward\u001b[39m(\u001b[38;5;28mself\u001b[39m, \u001b[38;5;28minput\u001b[39m: Tensor) \u001b[38;5;241m-\u001b[39m\u001b[38;5;241m>\u001b[39m Tensor:\n\u001b[0;32m--> 114\u001b[0m     \u001b[38;5;28;01mreturn\u001b[39;00m \u001b[43mF\u001b[49m\u001b[38;5;241;43m.\u001b[39;49m\u001b[43mlinear\u001b[49m\u001b[43m(\u001b[49m\u001b[38;5;28;43minput\u001b[39;49m\u001b[43m,\u001b[49m\u001b[43m \u001b[49m\u001b[38;5;28;43mself\u001b[39;49m\u001b[38;5;241;43m.\u001b[39;49m\u001b[43mweight\u001b[49m\u001b[43m,\u001b[49m\u001b[43m \u001b[49m\u001b[38;5;28;43mself\u001b[39;49m\u001b[38;5;241;43m.\u001b[39;49m\u001b[43mbias\u001b[49m\u001b[43m)\u001b[49m\n",
      "\u001b[0;31mKeyboardInterrupt\u001b[0m: "
     ]
    }
   ],
   "source": [
    "tokenizer = DistilBertTokenizer.from_pretrained('distilbert-base-uncased')\n",
    "model = DistilBertModel.from_pretrained('distilbert-base-uncased')\n",
    "\n",
    "text_A = list(final_df['headline A'].values)\n",
    "text_B = list(final_df['headline B'].values)\n",
    "# Tokenize text input\n",
    "tokens_A = tokenizer(text_A,padding=True, truncation=True, add_special_tokens=True, return_tensors='pt')\n",
    "tokens_B = tokenizer(text_B,padding=True, truncation=True, add_special_tokens=True, return_tensors='pt')\n",
    "# print(tokens['input_ids'].shape)\n",
    "\n",
    "# input_ids_a = tokens['input_ids'][0]\n",
    "# attention_mask_a = tokens['attention_mask'][0]\n",
    "# input_ids_b = tokens['input_ids'][1]\n",
    "# attention_mask_b = tokens['attention_mask'][1]\n",
    "# Pass tokens through DistilBERT model\n",
    "with torch.no_grad():\n",
    "    OP_A = model(tokens_A['input_ids'], attention_mask=tokens_A['attention_mask'])\n",
    "    OP_B = model(tokens_B['input_ids'], attention_mask=tokens_B['attention_mask'])\n",
    "# Extract the last hidden state activations\n",
    "last_hidden_state_a = OP_A[:,0].numpy()\n",
    "last_hidden_state_b = OP_B[:,0].numpy()"
   ]
  },
  {
   "cell_type": "code",
   "execution_count": 1,
   "id": "01b830ee-cc0a-4c20-ad3a-5295f03e5a5b",
   "metadata": {},
   "outputs": [
    {
     "ename": "NameError",
     "evalue": "name 'tokens_A' is not defined",
     "output_type": "error",
     "traceback": [
      "\u001b[0;31m---------------------------------------------------------------------------\u001b[0m",
      "\u001b[0;31mNameError\u001b[0m                                 Traceback (most recent call last)",
      "Cell \u001b[0;32mIn[1], line 1\u001b[0m\n\u001b[0;32m----> 1\u001b[0m \u001b[43mtokens_A\u001b[49m[\u001b[38;5;124m'\u001b[39m\u001b[38;5;124minput_ids\u001b[39m\u001b[38;5;124m'\u001b[39m]\u001b[38;5;241m.\u001b[39mshape,tokens_B[\u001b[38;5;124m'\u001b[39m\u001b[38;5;124minput_ids\u001b[39m\u001b[38;5;124m'\u001b[39m]\u001b[38;5;241m.\u001b[39mshape\n",
      "\u001b[0;31mNameError\u001b[0m: name 'tokens_A' is not defined"
     ]
    }
   ],
   "source": [
    "tokens_A['input_ids'].shape,tokens_B['input_ids'].shape"
   ]
  },
  {
   "cell_type": "code",
   "execution_count": 46,
   "id": "c310fb68-a58b-4749-8861-e9671edbf4a0",
   "metadata": {},
   "outputs": [
    {
     "name": "stderr",
     "output_type": "stream",
     "text": [
      "Some weights of the model checkpoint at distilbert-base-uncased were not used when initializing DistilBertModel: ['vocab_layer_norm.bias', 'vocab_transform.weight', 'vocab_transform.bias', 'vocab_layer_norm.weight', 'vocab_projector.weight', 'vocab_projector.bias']\n",
      "- This IS expected if you are initializing DistilBertModel from the checkpoint of a model trained on another task or with another architecture (e.g. initializing a BertForSequenceClassification model from a BertForPreTraining model).\n",
      "- This IS NOT expected if you are initializing DistilBertModel from the checkpoint of a model that you expect to be exactly identical (initializing a BertForSequenceClassification model from a BertForSequenceClassification model).\n"
     ]
    },
    {
     "data": {
      "text/plain": [
       "(1, 768)"
      ]
     },
     "execution_count": 46,
     "metadata": {},
     "output_type": "execute_result"
    }
   ],
   "source": [
    "import torch\n",
    "from transformers import DistilBertTokenizer, DistilBertModel\n",
    "\n",
    "# Load tokenizer and model\n",
    "tokenizer = DistilBertTokenizer.from_pretrained('distilbert-base-uncased')\n",
    "model = DistilBertModel.from_pretrained('distilbert-base-uncased')\n",
    "\n",
    "# Move model to GPU\n",
    "model = model.to('cuda')\n",
    "\n",
    "text_A = list(final_df['headline A'].values)\n",
    "text_B = list(final_df['headline B'].values)\n",
    "# Tokenize text input\n",
    "tokens_A = tokenizer(text_A,padding=True, truncation=True, add_special_tokens=True, return_tensors='pt')\n",
    "tokens_B = tokenizer(text_B,padding=True, truncation=True, add_special_tokens=True, return_tensors='pt')\n",
    "\n",
    "# Move tokenized inputs to GPU\n",
    "tokens_A = {k:v.to('cuda') for k, v in tokens_A.items()}\n",
    "tokens_B = {k:v.to('cuda') for k, v in tokens_B.items()}\n",
    "\n",
    "# Pass tokens through DistilBERT model\n",
    "with torch.no_grad():\n",
    "    OP_A = model(tokens_A['input_ids'], attention_mask=tokens_A['attention_mask'])\n",
    "    OP_B = model(tokens_B['input_ids'], attention_mask=tokens_B['attention_mask'])\n",
    "\n",
    "# Move output tensors back to CPU and convert to numpy arrays\n",
    "last_hidden_state_a = OP_A[:,0].cpu().numpy()\n",
    "last_hidden_state_b = OP_B[:,0].cpu().numpy()\n"
   ]
  },
  {
   "cell_type": "markdown",
   "id": "cbb4acb6-1554-4de0-bf57-84477f932d43",
   "metadata": {},
   "source": [
    "In some cases, the first token (often referred to as the \"[CLS]\" token) may contain important contextual information that summarizes the entire input text, especially when fine-tuned on a specific task. This is because in models like DistilBERT, the \"[CLS]\" token is used as a special token to represent the entire sequence during pre-training, and during fine-tuning it can be used to capture task-specific information"
   ]
  },
  {
   "cell_type": "code",
   "execution_count": 47,
   "id": "b90fce98-9b29-40e6-b69a-268727c57302",
   "metadata": {},
   "outputs": [
    {
     "name": "stderr",
     "output_type": "stream",
     "text": [
      "Some weights of the model checkpoint at distilbert-base-uncased were not used when initializing DistilBertModel: ['vocab_layer_norm.bias', 'vocab_transform.weight', 'vocab_transform.bias', 'vocab_layer_norm.weight', 'vocab_projector.weight', 'vocab_projector.bias']\n",
      "- This IS expected if you are initializing DistilBertModel from the checkpoint of a model trained on another task or with another architecture (e.g. initializing a BertForSequenceClassification model from a BertForPreTraining model).\n",
      "- This IS NOT expected if you are initializing DistilBertModel from the checkpoint of a model that you expect to be exactly identical (initializing a BertForSequenceClassification model from a BertForSequenceClassification model).\n"
     ]
    },
    {
     "ename": "TypeError",
     "evalue": "tuple indices must be integers or slices, not tuple",
     "output_type": "error",
     "traceback": [
      "\u001b[0;31m---------------------------------------------------------------------------\u001b[0m",
      "\u001b[0;31mTypeError\u001b[0m                                 Traceback (most recent call last)",
      "Cell \u001b[0;32mIn[48], line 21\u001b[0m\n\u001b[1;32m     18\u001b[0m     OP_A \u001b[38;5;241m=\u001b[39m model(tokens_A[\u001b[38;5;124m'\u001b[39m\u001b[38;5;124minput_ids\u001b[39m\u001b[38;5;124m'\u001b[39m], attention_mask\u001b[38;5;241m=\u001b[39mtokens_A[\u001b[38;5;124m'\u001b[39m\u001b[38;5;124mattention_mask\u001b[39m\u001b[38;5;124m'\u001b[39m])\n\u001b[1;32m     19\u001b[0m     \u001b[38;5;66;03m# OP_B = model(tokens_B['input_ids'], attention_mask=tokens_B['attention_mask'])\u001b[39;00m\n\u001b[1;32m     20\u001b[0m \u001b[38;5;66;03m# Extract the last hidden state activations\u001b[39;00m\n\u001b[0;32m---> 21\u001b[0m last_hidden_state_a \u001b[38;5;241m=\u001b[39m \u001b[43mOP_A\u001b[49m\u001b[43m[\u001b[49m\u001b[43m:\u001b[49m\u001b[43m,\u001b[49m\u001b[38;5;241;43m0\u001b[39;49m\u001b[43m]\u001b[49m\u001b[38;5;241m.\u001b[39mnumpy()\n\u001b[1;32m     22\u001b[0m \u001b[38;5;66;03m# last_hidden_state_b = OP_B[:,0].numpy()\u001b[39;00m\n\u001b[1;32m     23\u001b[0m last_hidden_state_a\u001b[38;5;241m.\u001b[39mshape\n",
      "File \u001b[0;32m~/opt/anaconda3/envs/proj/lib/python3.9/site-packages/transformers/utils/generic.py:288\u001b[0m, in \u001b[0;36mModelOutput.__getitem__\u001b[0;34m(self, k)\u001b[0m\n\u001b[1;32m    286\u001b[0m     \u001b[38;5;28;01mreturn\u001b[39;00m inner_dict[k]\n\u001b[1;32m    287\u001b[0m \u001b[38;5;28;01melse\u001b[39;00m:\n\u001b[0;32m--> 288\u001b[0m     \u001b[38;5;28;01mreturn\u001b[39;00m \u001b[38;5;28;43mself\u001b[39;49m\u001b[38;5;241;43m.\u001b[39;49m\u001b[43mto_tuple\u001b[49m\u001b[43m(\u001b[49m\u001b[43m)\u001b[49m\u001b[43m[\u001b[49m\u001b[43mk\u001b[49m\u001b[43m]\u001b[49m\n",
      "\u001b[0;31mTypeError\u001b[0m: tuple indices must be integers or slices, not tuple"
     ]
    }
   ],
   "source": [
    "tokenizer = DistilBertTokenizer.from_pretrained('distilbert-base-uncased')\n",
    "model = DistilBertModel.from_pretrained('distilbert-base-uncased')\n",
    "\n",
    "# text_A = list(final_df['headline A'].values)\n",
    "# text_B = list(final_df['headline B'].values)\n",
    "text_A = \"This is test text to check how thte shape comes out\"\n",
    "# Tokenize text input\n",
    "tokens_A = tokenizer(text_A,padding=True, truncation=True, add_special_tokens=True, return_tensors='pt')\n",
    "# tokens_B = tokenizer(text_B,padding=True, truncation=True, add_special_tokens=True, return_tensors='pt')\n",
    "# print(tokens['input_ids'].shape)\n",
    "\n",
    "# input_ids_a = tokens['input_ids'][0]\n",
    "# attention_mask_a = tokens['attention_mask'][0]\n",
    "# input_ids_b = tokens['input_ids'][1]\n",
    "# attention_mask_b = tokens['attention_mask'][1]\n",
    "# Pass tokens through DistilBERT model\n",
    "with torch.no_grad():\n",
    "    OP_A = model(tokens_A['input_ids'], attention_mask=tokens_A['attention_mask']).last_hidden_state\n",
    "    # OP_B = model(tokens_B['input_ids'], attention_mask=tokens_B['attention_mask'])\n",
    "# Extract the last hidden state activations\n",
    "last_hidden_state_a = OP_A[:,0].numpy()\n",
    "# last_hidden_state_b = OP_B[:,0].numpy()\n",
    "last_hidden_state_a.shape"
   ]
  },
  {
   "cell_type": "code",
   "execution_count": null,
   "id": "6350d272-25d2-4be3-859b-8299cc0241a0",
   "metadata": {},
   "outputs": [],
   "source": []
  }
 ],
 "metadata": {
  "kernelspec": {
   "display_name": "Python 3 (ipykernel)",
   "language": "python",
   "name": "python3"
  },
  "language_info": {
   "codemirror_mode": {
    "name": "ipython",
    "version": 3
   },
   "file_extension": ".py",
   "mimetype": "text/x-python",
   "name": "python",
   "nbconvert_exporter": "python",
   "pygments_lexer": "ipython3",
   "version": "3.9.12"
  }
 },
 "nbformat": 4,
 "nbformat_minor": 5
}
